{
 "cells": [
  {
   "cell_type": "code",
   "execution_count": 1,
   "metadata": {},
   "outputs": [],
   "source": [
    "# ДЗ по занятию 15.05.2023 + 18.05.2023\n",
    "\n",
    "import modules.classes as c\n",
    "import time\n",
    "\n",
    "#animal_lucy = c.Animal('Lucy', 'white')\n",
    "#cat_tim = c.Cat('Tim', 'black')\n",
    "#cat_sam = c.Cat('Sam', 'ginger')\n",
    "#dog_ludwig = c.Dog('Ludwig', 'brown')\n",
    "#horse_annabel = c.Horse('Annabel', 'ginger', 'Brumby')\n",
    "#horse_danny = c.Horse('Danny', 'brown', height=170)\n",
    "\n",
    "#animals = [animal, cat, another_cat, dog, horse, another_horse]\n",
    "#for animal_el in animals:\n",
    "#    print(f'I am {animal_el.name}. {animal_el.voice()}. My height is {animal_el.height} cm and my speed is {animal_el.speed} kmph')\n",
    "\n",
    "dog_ludwig = c.Dog('Ludwig', 'brown')\n",
    "dog_ani = c.Dog('Ani', 'white')\n",
    "puppy = dog_ludwig + dog_ani\n",
    "puppy.set_name('Lucky')\n",
    "puppy.get_bigger()\n",
    "\n",
    "cat_tim = c.Cat('Tim', 'black')\n",
    "cat_liz = c.Cat('Liz', 'ginger')\n",
    "kitty = cat_liz + cat_tim\n",
    "kitty.set_name('Sam')\n",
    "kitty.get_bigger()\n",
    "\n",
    "horse_annabel = c.Horse('Annabel', 'ginger', 'Brumby')\n",
    "horse_danny = c.Horse('Danny', 'brown', height=170)\n",
    "\n",
    "animals = [dog_ludwig, dog_ani, puppy, cat_tim, cat_liz, kitty, horse_annabel, horse_danny]\n",
    "animal_list = [lambda x = x: c.Doctor.get_examination(x) for x in animals]\n",
    "c.Doctor.get_report(animal_list)"
   ]
  },
  {
   "cell_type": "code",
   "execution_count": null,
   "metadata": {},
   "outputs": [],
   "source": [
    "# ДЗ по занятию 11.05.2023\n",
    "\n",
    "import modules.data_processing as dp\n",
    "import modules.data_loading as dl\n",
    "\n",
    "unsorted_list = [3, 7, 1, 2, 9, 8, 4]\n",
    "sorted_list = dp.get_sorted_list(unsorted_list)\n",
    "\n",
    "file_name = 'data\\lesson1105.txt'\n",
    "dl.write_list_in_file(dp.get_even_val(sorted_list), file_name, 'a')\n",
    "dl.write_list_in_file(dp.get_even_ind_val(sorted_list), file_name, 'a')"
   ]
  }
 ],
 "metadata": {
  "kernelspec": {
   "display_name": "DS05",
   "language": "python",
   "name": "python3"
  },
  "language_info": {
   "codemirror_mode": {
    "name": "ipython",
    "version": 3
   },
   "file_extension": ".py",
   "mimetype": "text/x-python",
   "name": "python",
   "nbconvert_exporter": "python",
   "pygments_lexer": "ipython3",
   "version": "3.10.11"
  },
  "orig_nbformat": 4
 },
 "nbformat": 4,
 "nbformat_minor": 2
}
