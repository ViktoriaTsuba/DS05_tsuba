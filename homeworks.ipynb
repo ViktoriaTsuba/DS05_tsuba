{
 "cells": [
  {
   "cell_type": "code",
   "execution_count": null,
   "metadata": {},
   "outputs": [],
   "source": [
    "# ДЗ по занятию 15.05.2023\n",
    "\n",
    "import modules.classes as c\n",
    "\n",
    "animal_lucy = c.Animal('Lucy', 'white')\n",
    "cat_tim = c.Cat('Tim', 'black')\n",
    "cat_sam = c.Cat('Sam', 'ginger')\n",
    "dog_ludwig = c.Dog('Ludwig', 'brown')\n",
    "horse_annabel = c.Horse('Annabel', 'ginger', 'Brumby')\n",
    "horse_danny = c.Horse('Danny', 'brown', height=170)\n",
    "\n",
    "animals = [animal, cat, another_cat, dog, horse, another_horse]\n",
    "for animal_el in animals:\n",
    "    print(f'I am {animal_el.name}. {animal_el.voice()}. My height is {animal_el.height} cm and my speed is {animal_el.speed} kmph')"
   ]
  },
  {
   "cell_type": "code",
   "execution_count": null,
   "metadata": {},
   "outputs": [],
   "source": [
    "# ДЗ по занятию 11.05.2023\n",
    "\n",
    "import modules.data_processing as dp\n",
    "import modules.data_loading as dl\n",
    "\n",
    "unsorted_list = [3, 7, 1, 2, 9, 8, 4]\n",
    "sorted_list = dp.get_sorted_list(unsorted_list)\n",
    "\n",
    "file_name = 'data\\lesson1105.txt'\n",
    "dl.write_list_in_file(dp.get_even_val(sorted_list), file_name, 'a')\n",
    "dl.write_list_in_file(dp.get_even_ind_val(sorted_list), file_name, 'a')"
   ]
  }
 ],
 "metadata": {
  "language_info": {
   "name": "python"
  },
  "orig_nbformat": 4
 },
 "nbformat": 4,
 "nbformat_minor": 2
}
