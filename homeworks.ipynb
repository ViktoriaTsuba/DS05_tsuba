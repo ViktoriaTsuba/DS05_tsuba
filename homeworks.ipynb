{
 "cells": [
  {
   "cell_type": "code",
   "execution_count": 1,
   "metadata": {},
   "outputs": [
    {
     "ename": "SyntaxError",
     "evalue": "expected ':' (animal_class.py, line 33)",
     "output_type": "error",
     "traceback": [
      "Traceback \u001b[1;36m(most recent call last)\u001b[0m:\n",
      "\u001b[0m  File \u001b[0;32mc:\\Users\\37529\\.conda\\envs\\DS05\\lib\\site-packages\\IPython\\core\\interactiveshell.py:3508\u001b[0m in \u001b[0;35mrun_code\u001b[0m\n    exec(code_obj, self.user_global_ns, self.user_ns)\u001b[0m\n",
      "\u001b[0m  Cell \u001b[0;32mIn[1], line 3\u001b[0m\n    import modules.classes as c\u001b[0m\n",
      "\u001b[1;36m  File \u001b[1;32mc:\\Users\\37529\\Обучение DS - DS05\\DS05_tsuba\\modules\\classes\\__init__.py:1\u001b[1;36m\n\u001b[1;33m    from modules.classes.animal_class import (\u001b[1;36m\n",
      "\u001b[1;36m  File \u001b[1;32mc:\\Users\\37529\\Обучение DS - DS05\\DS05_tsuba\\modules\\classes\\animal_class.py:33\u001b[1;36m\u001b[0m\n\u001b[1;33m    def set_name(self);\u001b[0m\n\u001b[1;37m                      ^\u001b[0m\n\u001b[1;31mSyntaxError\u001b[0m\u001b[1;31m:\u001b[0m expected ':'\n"
     ]
    }
   ],
   "source": [
    "# ДЗ по занятию 15.05.2023\n",
    "\n",
    "import modules.classes as c\n",
    "\n",
    "#animal_lucy = c.Animal('Lucy', 'white')\n",
    "#cat_tim = c.Cat('Tim', 'black')\n",
    "#cat_sam = c.Cat('Sam', 'ginger')\n",
    "#dog_ludwig = c.Dog('Ludwig', 'brown')\n",
    "#horse_annabel = c.Horse('Annabel', 'ginger', 'Brumby')\n",
    "#horse_danny = c.Horse('Danny', 'brown', height=170)\n",
    "\n",
    "#animals = [animal, cat, another_cat, dog, horse, another_horse]\n",
    "#for animal_el in animals:\n",
    "#    print(f'I am {animal_el.name}. {animal_el.voice()}. My height is {animal_el.height} cm and my speed is {animal_el.speed} kmph')\n",
    "\n",
    "dog_ludwig = c.Dog('Ludwig', 'brown')\n",
    "dog_ludwig.get_height()"
   ]
  },
  {
   "cell_type": "code",
   "execution_count": null,
   "metadata": {},
   "outputs": [],
   "source": [
    "# ДЗ по занятию 11.05.2023\n",
    "\n",
    "import modules.data_processing as dp\n",
    "import modules.data_loading as dl\n",
    "\n",
    "unsorted_list = [3, 7, 1, 2, 9, 8, 4]\n",
    "sorted_list = dp.get_sorted_list(unsorted_list)\n",
    "\n",
    "file_name = 'data\\lesson1105.txt'\n",
    "dl.write_list_in_file(dp.get_even_val(sorted_list), file_name, 'a')\n",
    "dl.write_list_in_file(dp.get_even_ind_val(sorted_list), file_name, 'a')"
   ]
  }
 ],
 "metadata": {
  "kernelspec": {
   "display_name": "DS05",
   "language": "python",
   "name": "python3"
  },
  "language_info": {
   "codemirror_mode": {
    "name": "ipython",
    "version": 3
   },
   "file_extension": ".py",
   "mimetype": "text/x-python",
   "name": "python",
   "nbconvert_exporter": "python",
   "pygments_lexer": "ipython3",
   "version": "3.10.11"
  },
  "orig_nbformat": 4
 },
 "nbformat": 4,
 "nbformat_minor": 2
}
