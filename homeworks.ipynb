{
 "cells": [
  {
   "attachments": {},
   "cell_type": "markdown",
   "metadata": {},
   "source": [
    "#### __ДЗ по занятию 15.05.2023 + 18.05.2023__"
   ]
  },
  {
   "cell_type": "code",
   "execution_count": 1,
   "metadata": {},
   "outputs": [],
   "source": [
    "import modules.classes as c\n",
    "import time\n",
    "\n",
    "#animal_lucy = c.Animal('Lucy', 'white')\n",
    "#cat_tim = c.Cat('Tim', 'black')\n",
    "#cat_sam = c.Cat('Sam', 'ginger')\n",
    "#dog_ludwig = c.Dog('Ludwig', 'brown')\n",
    "#horse_annabel = c.Horse('Annabel', 'ginger', 'Brumby')\n",
    "#horse_danny = c.Horse('Danny', 'brown', height=170)\n",
    "\n",
    "#animals = [animal, cat, another_cat, dog, horse, another_horse]\n",
    "#for animal_el in animals:\n",
    "#    print(f'I am {animal_el.name}. {animal_el.voice()}. My height is {animal_el.height} cm and my speed is {animal_el.speed} kmph')\n",
    "\n",
    "dog_ludwig = c.Dog('Ludwig', 'brown')\n",
    "dog_ani = c.Dog('Ani', 'white')\n",
    "puppy = dog_ludwig + dog_ani\n",
    "puppy.set_name('Lucky')\n",
    "puppy.get_bigger()\n",
    "\n",
    "cat_tim = c.Cat('Tim', 'black')\n",
    "cat_liz = c.Cat('Liz', 'ginger')\n",
    "kitty = cat_liz + cat_tim\n",
    "kitty.set_name('Sam')\n",
    "kitty.get_bigger()\n",
    "\n",
    "horse_annabel = c.Horse('Annabel', 'ginger', 'Brumby')\n",
    "horse_danny = c.Horse('Danny', 'brown', height=170)\n",
    "\n",
    "animals = [dog_ludwig, dog_ani, puppy, cat_tim, cat_liz, kitty, horse_annabel, horse_danny]\n",
    "animal_list = [lambda x = x: c.Doctor.get_examination(x) for x in animals]\n",
    "c.Doctor.get_report(animal_list)"
   ]
  },
  {
   "attachments": {},
   "cell_type": "markdown",
   "metadata": {},
   "source": [
    "#### __ДЗ по занятию 11.05.2023__"
   ]
  },
  {
   "cell_type": "code",
   "execution_count": null,
   "metadata": {},
   "outputs": [],
   "source": [
    "import modules.data_processing as dp\n",
    "import modules.data_loading as dl\n",
    "\n",
    "unsorted_list = [3, 7, 1, 2, 9, 8, 4]\n",
    "sorted_list = dp.get_sorted_list(unsorted_list)\n",
    "\n",
    "file_name = 'data\\lesson1105.txt'\n",
    "dl.write_list_in_file(dp.get_even_val(sorted_list), file_name, 'a')\n",
    "dl.write_list_in_file(dp.get_even_ind_val(sorted_list), file_name, 'a')"
   ]
  },
  {
   "attachments": {},
   "cell_type": "markdown",
   "metadata": {},
   "source": [
    "#### __ДЗ по занятию 01.06.2023__"
   ]
  },
  {
   "cell_type": "code",
   "execution_count": 1,
   "metadata": {},
   "outputs": [],
   "source": [
    "import numpy as np"
   ]
  },
  {
   "cell_type": "code",
   "execution_count": 7,
   "metadata": {},
   "outputs": [
    {
     "name": "stdout",
     "output_type": "stream",
     "text": [
      "[ 1 15 86 30] (4,)\n",
      "\n",
      "[[ 1]\n",
      " [15]\n",
      " [86]\n",
      " [30]] (4, 1)\n",
      "\n",
      "[[ 2 86]\n",
      " [46 76]\n",
      " [ 2  6]\n",
      " [78  1]] (4, 2)\n"
     ]
    }
   ],
   "source": [
    "sample_scalar = 20\n",
    "sample_vector = np.array([1, 15, 86, 30])\n",
    "vector_for_matrix = np.array([2, 86, 46, 76, 2, 6, 78, 1])\n",
    "\n",
    "print(f\"{sample_vector} {sample_vector.shape}\\n\")\n",
    "sample_vector = np.expand_dims(sample_vector, -1)\n",
    "print(f\"{sample_vector} {sample_vector.shape}\\n\")\n",
    "\n",
    "sample_matrix = vector_for_matrix.reshape(4, 2)\n",
    "print(f\"{sample_matrix} {sample_matrix.shape}\")"
   ]
  },
  {
   "attachments": {},
   "cell_type": "markdown",
   "metadata": {},
   "source": [
    "##### **_Сложение_**"
   ]
  },
  {
   "attachments": {},
   "cell_type": "markdown",
   "metadata": {},
   "source": [
    "###### **Скаляр + матрица | вектор**"
   ]
  },
  {
   "cell_type": "code",
   "execution_count": 31,
   "metadata": {},
   "outputs": [
    {
     "name": "stdout",
     "output_type": "stream",
     "text": [
      "scalar: 20, vector: [[1], [15], [86], [30]]\n",
      "sum_scalar (scalar + vector): [[21], [35], [106], [50]]\n",
      "numpy (scalar + vector): [[21], [35], [106], [50]]\n",
      "sum_scalar == numpy is True\n",
      "\n",
      "scalar: 20, matrix: [[2, 86], [46, 76], [2, 6], [78, 1]]\n",
      "sum_scalar (scalar + matrix): [[22, 106], [66, 96], [22, 26], [98, 21]]\n",
      "numpy (scalar + matrix): [[22, 106], [66, 96], [22, 26], [98, 21]]\n",
      "sum_scalar == numpy is True\n"
     ]
    }
   ],
   "source": [
    "def sum_scalar(scalar: int, matrix: np.array)  -> list:\n",
    "    return [[j + scalar for j in el] for el in matrix]\n",
    "\n",
    "print(f\"scalar: {sample_scalar}, vector: {sample_vector.tolist()}\")\n",
    "print(f\"sum_scalar (scalar + vector): {sum_scalar(sample_scalar, sample_vector)}\")\n",
    "print(f\"numpy (scalar + vector): {(sample_scalar + sample_vector).tolist()}\")\n",
    "print(f\"sum_scalar == numpy is {sum_scalar(sample_scalar, sample_vector) == (sample_scalar + sample_vector).tolist()}\\n\")\n",
    "\n",
    "print(f\"scalar: {sample_scalar}, matrix: {sample_matrix.tolist()}\")\n",
    "print(f\"sum_scalar (scalar + matrix): {sum_scalar(sample_scalar, sample_matrix)}\")\n",
    "print(f\"numpy (scalar + matrix): {(sample_scalar + sample_matrix).tolist()}\")\n",
    "print(f\"sum_scalar == numpy is {sum_scalar(sample_scalar, sample_matrix) == (sample_scalar + sample_matrix).tolist()}\")"
   ]
  },
  {
   "attachments": {},
   "cell_type": "markdown",
   "metadata": {},
   "source": [
    "###### **Вектор + матрица | вектор**"
   ]
  },
  {
   "cell_type": "code",
   "execution_count": 45,
   "metadata": {},
   "outputs": [
    {
     "name": "stdout",
     "output_type": "stream",
     "text": [
      "[[2], [30], [172], [60]]\n",
      "sum_vector(vector + vector) == numpy is True\n",
      "\n",
      "[[3, 87], [61, 91], [88, 92], [108, 31]]\n",
      "sum_vector(vector + matrix) == numpy is True\n"
     ]
    }
   ],
   "source": [
    "def sum_vector(vector: np.array, matrix: np.array) -> list:\n",
    "    result = []\n",
    "    for vector_row, matrix_row in zip(vector, matrix):\n",
    "        result.append([row + vector_row[0] for row in matrix_row])\n",
    "    return result\n",
    "        \n",
    "print(sum_vector(sample_vector, sample_vector))\n",
    "print(f\"sum_vector(vector + vector) == numpy is {sum_vector(sample_vector, sample_vector) == (sample_vector + sample_vector).tolist()}\\n\")\n",
    "print(sum_vector(sample_vector, sample_matrix))\n",
    "print(f\"sum_vector(vector + matrix) == numpy is {sum_vector(sample_vector, sample_matrix) == (sample_vector + sample_matrix).tolist()}\")\n"
   ]
  },
  {
   "attachments": {},
   "cell_type": "markdown",
   "metadata": {},
   "source": [
    "###### **Матрица + матрица**"
   ]
  },
  {
   "cell_type": "code",
   "execution_count": 44,
   "metadata": {},
   "outputs": [
    {
     "name": "stdout",
     "output_type": "stream",
     "text": [
      "[[4, 172], [92, 152], [4, 12], [156, 2]]\n",
      "sum_matrix == numpy is True\n"
     ]
    }
   ],
   "source": [
    "def sum_matrix(first_matrix: np.array, second_matrix: np.array) -> list:\n",
    "    result = []\n",
    "    for fm_row, sm_row in zip(first_matrix, second_matrix):\n",
    "        result.append([fm_row_el + sm_row_el for fm_row_el, sm_row_el in zip(fm_row, sm_row)])\n",
    "    return result\n",
    "\n",
    "print(sum_matrix(sample_matrix, sample_matrix))\n",
    "print(f\"sum_matrix == numpy is {sum_matrix(sample_matrix, sample_matrix) == (sample_matrix + sample_matrix).tolist()}\")"
   ]
  },
  {
   "attachments": {},
   "cell_type": "markdown",
   "metadata": {},
   "source": [
    "##### **_Транспонирование_**"
   ]
  },
  {
   "cell_type": "code",
   "execution_count": 140,
   "metadata": {},
   "outputs": [
    {
     "name": "stdout",
     "output_type": "stream",
     "text": [
      "sample_matrix: [[ 2 46  2 78]\n",
      " [86 76  6  1]]\n",
      "transp == numpy is True\n",
      "\n",
      "sample_vector: [[ 1 15 86 30]]\n",
      "transp == numpy is True\n"
     ]
    }
   ],
   "source": [
    "def transp(matrix: np.array) -> np.array:\n",
    "    result = []\n",
    "    for row_i, row in enumerate(matrix):\n",
    "        for i, el in enumerate(row):\n",
    "            if row_i == 0:\n",
    "                result.append([el])\n",
    "            else:\n",
    "                result[i].append(el)\n",
    "    return np.array(result)\n",
    "\n",
    "print(f\"sample_matrix: {transp(sample_matrix)}\")\n",
    "print(f\"transp == numpy is {transp(sample_matrix).tolist() == sample_matrix.T.tolist()}\\n\")\n",
    "\n",
    "print(f\"sample_vector: {transp(sample_vector)}\")\n",
    "print(f\"transp == numpy is {transp(sample_vector).tolist() == sample_vector.T.tolist()}\")"
   ]
  },
  {
   "attachments": {},
   "cell_type": "markdown",
   "metadata": {},
   "source": [
    "##### **_Умножение_**"
   ]
  },
  {
   "attachments": {},
   "cell_type": "markdown",
   "metadata": {},
   "source": [
    "###### **Скаляр * матрица | вектор**"
   ]
  },
  {
   "cell_type": "code",
   "execution_count": 119,
   "metadata": {},
   "outputs": [
    {
     "name": "stdout",
     "output_type": "stream",
     "text": [
      "[[40, 1720], [920, 1520], [40, 120], [1560, 20]]\n",
      "mlt_scalar(scalar * matrix) == numpy is True\n",
      "\n",
      "[[20], [300], [1720], [600]]\n",
      "[[20], [300], [1720], [600]]\n",
      "mlt_scalar(scalar * vector) == numpy is True\n",
      "\n"
     ]
    }
   ],
   "source": [
    "def mlt_scalar(scalar: int, matrix: np.array) -> list:\n",
    "    return [[el * scalar for el in row] for row in matrix]\n",
    "\n",
    "print(mlt_scalar(sample_scalar, sample_matrix))\n",
    "print(f\"mlt_scalar(scalar * matrix) == numpy is {mlt_scalar(sample_scalar, sample_matrix) == np.dot(sample_scalar, sample_matrix).tolist()}\\n\")\n",
    "\n",
    "print(mlt_scalar(sample_scalar, sample_vector))\n",
    "print(f\"mlt_scalar(scalar * vector) == numpy is {mlt_scalar(sample_scalar, sample_vector) == np.dot(sample_scalar, sample_vector).tolist()}\\n\")\n"
   ]
  },
  {
   "attachments": {},
   "cell_type": "markdown",
   "metadata": {},
   "source": [
    "###### **Матрица | вектор * матрица | вектор**"
   ]
  },
  {
   "cell_type": "code",
   "execution_count": 88,
   "metadata": {},
   "outputs": [
    {
     "name": "stdout",
     "output_type": "stream",
     "text": [
      "(4, 3) * (3,)\n",
      "[32  7 34 15]\n"
     ]
    }
   ],
   "source": [
    "fm = np.array([[1,5,7],\n",
    "              [2,1,1],\n",
    "              [3,2,9],\n",
    "              [4,1,3]])\n",
    "fv = np.array([1,2,3])\n",
    "sm = np.array([[1,1],\n",
    "               [2,2],\n",
    "               [3,3]])\n",
    "\n",
    "print(f\"{fm.shape} * {fv.shape}\")\n",
    "print(np.dot(fm, fv))"
   ]
  },
  {
   "cell_type": "code",
   "execution_count": 139,
   "metadata": {},
   "outputs": [
    {
     "name": "stdout",
     "output_type": "stream",
     "text": [
      "matrix * vector: [[32], [7], [34], [15]]\n",
      "[32  7 34 15]\n",
      "mlt_matrix(matrix * vector) == numpy is True\n",
      "\n",
      "matrix * matrix: [[32, 32], [7, 7], [34, 34], [15, 15]]\n",
      "mlt_matrix(matrix * matrix) == numpy is True\n"
     ]
    }
   ],
   "source": [
    "def mlt_matrix(first_matrix: np.array, second_matrix: np.array) -> list:\n",
    "    result = []\n",
    "    try:\n",
    "        first_matrix.shape[1]\n",
    "    except IndexError:\n",
    "        first_matrix = np.expand_dims(first_matrix, -1)\n",
    "\n",
    "    try:\n",
    "        second_matrix.shape[1]\n",
    "    except IndexError:\n",
    "        second_matrix = np.expand_dims(second_matrix, -1)\n",
    "\n",
    "    for fm_row_ind, fm_row in enumerate(first_matrix):\n",
    "        for i in range(second_matrix.shape[1]):\n",
    "            sm_col = second_matrix[:, i]\n",
    "            v = 0\n",
    "            for fm_el, sm_el in zip(fm_row, sm_col):\n",
    "                v += fm_el * sm_el\n",
    "            if i == 0:\n",
    "                result.append([v])\n",
    "            else:\n",
    "                result[fm_row_ind].append(v)\n",
    "        \n",
    "    return result\n",
    "\n",
    "\n",
    "print(f\"matrix * vector: {mlt_matrix(fm, fv)}\")\n",
    "print(np.dot(fm, fv))\n",
    "print(f\"mlt_matrix(matrix * vector) == numpy is {mlt_matrix(fm, fv) == np.expand_dims(np.dot(fm, fv), -1).tolist()}\\n\")\n",
    "\n",
    "print(f\"matrix * matrix: {mlt_matrix(fm, sm)}\")\n",
    "print(f\"mlt_matrix(matrix * matrix) == numpy is {mlt_matrix(fm, sm) == np.dot(fm, sm).tolist()}\")"
   ]
  },
  {
   "cell_type": "code",
   "execution_count": 137,
   "metadata": {},
   "outputs": [
    {
     "name": "stdout",
     "output_type": "stream",
     "text": [
      "(4, 2) (4, 1)\n",
      "numpy sample_matrix on sample_vector = [[3204], [1772]]\n",
      "mlt_matrix sample_matrix on sample_vector = [[3204], [1772]]\n"
     ]
    }
   ],
   "source": [
    "print(f\"{sample_matrix.shape} {sample_vector.shape}\")\n",
    "print(f\"numpy sample_matrix on sample_vector = {np.dot(sample_matrix.T, sample_vector).tolist()}\")\n",
    "print(f\"mlt_matrix sample_matrix on sample_vector = {mlt_matrix(transp(sample_matrix), sample_vector)}\")"
   ]
  }
 ],
 "metadata": {
  "kernelspec": {
   "display_name": "DS05",
   "language": "python",
   "name": "python3"
  },
  "language_info": {
   "codemirror_mode": {
    "name": "ipython",
    "version": 3
   },
   "file_extension": ".py",
   "mimetype": "text/x-python",
   "name": "python",
   "nbconvert_exporter": "python",
   "pygments_lexer": "ipython3",
   "version": "3.10.11"
  },
  "orig_nbformat": 4
 },
 "nbformat": 4,
 "nbformat_minor": 2
}
