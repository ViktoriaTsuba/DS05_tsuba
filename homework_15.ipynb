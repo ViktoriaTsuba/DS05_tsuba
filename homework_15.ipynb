{
 "cells": [
  {
   "cell_type": "markdown",
   "metadata": {},
   "source": [
    "# Домашнее задание по занатию 15"
   ]
  },
  {
   "cell_type": "markdown",
   "metadata": {},
   "source": [
    "Задание: \n",
    "* Решить задачу с применением линейной регрессии. \n",
    "* Объяснить выбор функции ошибок и метрики. \n",
    "* Дать субъективную оценку качества, глядя на значения, полученные при помощи функции ошибок и метрик.\n",
    "\n",
    "Цель:\n",
    "* Применить модель линейной регрессии для предсказания результатов.\n",
    "* Расчитать функции ошибок."
   ]
  },
  {
   "cell_type": "markdown",
   "metadata": {},
   "source": [
    "## Импорт библиотек и загрузка данных"
   ]
  },
  {
   "cell_type": "code",
   "execution_count": 41,
   "metadata": {},
   "outputs": [],
   "source": [
    "from sklearn.linear_model import LinearRegression\n",
    "from sklearn.datasets import load_iris\n",
    "from sklearn.model_selection import train_test_split\n",
    "from sklearn import metrics\n",
    "import numpy as np\n",
    "import pandas as pd"
   ]
  },
  {
   "cell_type": "code",
   "execution_count": 42,
   "metadata": {},
   "outputs": [
    {
     "name": "stdout",
     "output_type": "stream",
     "text": [
      "Feature values:\n",
      "[[5.1 3.5 1.4 0.2]\n",
      " [4.9 3.  1.4 0.2]\n",
      " [4.7 3.2 1.3 0.2]\n",
      " [4.6 3.1 1.5 0.2]\n",
      " [5.  3.6 1.4 0.2]]\n",
      "Feature names: ['sepal length (cm)', 'sepal width (cm)', 'petal length (cm)', 'petal width (cm)']\n",
      "Target: [0 0 0 0 0 0 0 0 0 0 0 0 0 0 0 0 0 0 0 0 0 0 0 0 0 0 0 0 0 0 0 0 0 0 0 0 0\n",
      " 0 0 0 0 0 0 0 0 0 0 0 0 0 1 1 1 1 1 1 1 1 1 1 1 1 1 1 1 1 1 1 1 1 1 1 1 1\n",
      " 1 1 1 1 1 1 1 1 1 1 1 1 1 1 1 1 1 1 1 1 1 1 1 1 1 1 1 1 1 1 1 1 1 1 1 1 1\n",
      " 1 1 1 1 1 1 1 1 1 1 1 1 1 1 1 1 1 1 1 1 1 1 1 1 1 1 1 1 1 1 1 1 1 1 1 1 1\n",
      " 1 1]\n"
     ]
    },
    {
     "data": {
      "text/plain": [
       "(array([0, 1]), array([ 50, 100], dtype=int64))"
      ]
     },
     "execution_count": 42,
     "metadata": {},
     "output_type": "execute_result"
    }
   ],
   "source": [
    "data = load_iris()\n",
    "print(f'Feature values:\\n{data.data[:5]}')\n",
    "print(f'Feature names: {data.feature_names}')\n",
    "\n",
    "data.target = np.array([0 if i==0 else 1 for i in data.target])\n",
    "print(f'Target: {data.target}')\n",
    "\n",
    "np.unique(data.target, return_counts=True)"
   ]
  },
  {
   "cell_type": "code",
   "execution_count": 43,
   "metadata": {},
   "outputs": [],
   "source": [
    "# разделим данные на тренирововчный и тестовый датасеты\n",
    "X_train, X_test, y_train, y_test = train_test_split(data.data, data.target, train_size=0.55,random_state=42)"
   ]
  },
  {
   "cell_type": "markdown",
   "metadata": {},
   "source": [
    "## Первичный анализ данных"
   ]
  },
  {
   "cell_type": "code",
   "execution_count": 44,
   "metadata": {},
   "outputs": [
    {
     "data": {
      "text/html": [
       "<div>\n",
       "<style scoped>\n",
       "    .dataframe tbody tr th:only-of-type {\n",
       "        vertical-align: middle;\n",
       "    }\n",
       "\n",
       "    .dataframe tbody tr th {\n",
       "        vertical-align: top;\n",
       "    }\n",
       "\n",
       "    .dataframe thead th {\n",
       "        text-align: right;\n",
       "    }\n",
       "</style>\n",
       "<table border=\"1\" class=\"dataframe\">\n",
       "  <thead>\n",
       "    <tr style=\"text-align: right;\">\n",
       "      <th></th>\n",
       "      <th>sepal length (cm)</th>\n",
       "      <th>sepal width (cm)</th>\n",
       "      <th>petal length (cm)</th>\n",
       "      <th>petal width (cm)</th>\n",
       "      <th>target</th>\n",
       "    </tr>\n",
       "  </thead>\n",
       "  <tbody>\n",
       "    <tr>\n",
       "      <th>0</th>\n",
       "      <td>4.6</td>\n",
       "      <td>3.2</td>\n",
       "      <td>1.4</td>\n",
       "      <td>0.2</td>\n",
       "      <td>0.0</td>\n",
       "    </tr>\n",
       "    <tr>\n",
       "      <th>1</th>\n",
       "      <td>6.2</td>\n",
       "      <td>2.9</td>\n",
       "      <td>4.3</td>\n",
       "      <td>1.3</td>\n",
       "      <td>1.0</td>\n",
       "    </tr>\n",
       "    <tr>\n",
       "      <th>2</th>\n",
       "      <td>5.7</td>\n",
       "      <td>2.5</td>\n",
       "      <td>5.0</td>\n",
       "      <td>2.0</td>\n",
       "      <td>1.0</td>\n",
       "    </tr>\n",
       "    <tr>\n",
       "      <th>3</th>\n",
       "      <td>5.5</td>\n",
       "      <td>4.2</td>\n",
       "      <td>1.4</td>\n",
       "      <td>0.2</td>\n",
       "      <td>0.0</td>\n",
       "    </tr>\n",
       "    <tr>\n",
       "      <th>4</th>\n",
       "      <td>6.0</td>\n",
       "      <td>3.0</td>\n",
       "      <td>4.8</td>\n",
       "      <td>1.8</td>\n",
       "      <td>1.0</td>\n",
       "    </tr>\n",
       "  </tbody>\n",
       "</table>\n",
       "</div>"
      ],
      "text/plain": [
       "   sepal length (cm)  sepal width (cm)  petal length (cm)  petal width (cm)  \\\n",
       "0                4.6               3.2                1.4               0.2   \n",
       "1                6.2               2.9                4.3               1.3   \n",
       "2                5.7               2.5                5.0               2.0   \n",
       "3                5.5               4.2                1.4               0.2   \n",
       "4                6.0               3.0                4.8               1.8   \n",
       "\n",
       "   target  \n",
       "0     0.0  \n",
       "1     1.0  \n",
       "2     1.0  \n",
       "3     0.0  \n",
       "4     1.0  "
      ]
     },
     "execution_count": 44,
     "metadata": {},
     "output_type": "execute_result"
    }
   ],
   "source": [
    "df = pd.DataFrame(data= np.c_[X_train, y_train],columns= data['feature_names'] + ['target'])\n",
    "df.head()"
   ]
  },
  {
   "cell_type": "code",
   "execution_count": 45,
   "metadata": {},
   "outputs": [
    {
     "name": "stdout",
     "output_type": "stream",
     "text": [
      "<class 'pandas.core.frame.DataFrame'>\n",
      "RangeIndex: 82 entries, 0 to 81\n",
      "Data columns (total 5 columns):\n",
      " #   Column             Non-Null Count  Dtype  \n",
      "---  ------             --------------  -----  \n",
      " 0   sepal length (cm)  82 non-null     float64\n",
      " 1   sepal width (cm)   82 non-null     float64\n",
      " 2   petal length (cm)  82 non-null     float64\n",
      " 3   petal width (cm)   82 non-null     float64\n",
      " 4   target             82 non-null     float64\n",
      "dtypes: float64(5)\n",
      "memory usage: 3.3 KB\n"
     ]
    }
   ],
   "source": [
    "df.info()"
   ]
  },
  {
   "cell_type": "code",
   "execution_count": 46,
   "metadata": {},
   "outputs": [
    {
     "data": {
      "text/html": [
       "<div>\n",
       "<style scoped>\n",
       "    .dataframe tbody tr th:only-of-type {\n",
       "        vertical-align: middle;\n",
       "    }\n",
       "\n",
       "    .dataframe tbody tr th {\n",
       "        vertical-align: top;\n",
       "    }\n",
       "\n",
       "    .dataframe thead th {\n",
       "        text-align: right;\n",
       "    }\n",
       "</style>\n",
       "<table border=\"1\" class=\"dataframe\">\n",
       "  <thead>\n",
       "    <tr style=\"text-align: right;\">\n",
       "      <th></th>\n",
       "      <th>sepal length (cm)</th>\n",
       "      <th>sepal width (cm)</th>\n",
       "      <th>petal length (cm)</th>\n",
       "      <th>petal width (cm)</th>\n",
       "      <th>target</th>\n",
       "    </tr>\n",
       "  </thead>\n",
       "  <tbody>\n",
       "    <tr>\n",
       "      <th>sepal length (cm)</th>\n",
       "      <td>1.000000</td>\n",
       "      <td>-0.056297</td>\n",
       "      <td>0.851571</td>\n",
       "      <td>0.775531</td>\n",
       "      <td>0.698696</td>\n",
       "    </tr>\n",
       "    <tr>\n",
       "      <th>sepal width (cm)</th>\n",
       "      <td>-0.056297</td>\n",
       "      <td>1.000000</td>\n",
       "      <td>-0.368543</td>\n",
       "      <td>-0.287466</td>\n",
       "      <td>-0.570445</td>\n",
       "    </tr>\n",
       "    <tr>\n",
       "      <th>petal length (cm)</th>\n",
       "      <td>0.851571</td>\n",
       "      <td>-0.368543</td>\n",
       "      <td>1.000000</td>\n",
       "      <td>0.955804</td>\n",
       "      <td>0.919304</td>\n",
       "    </tr>\n",
       "    <tr>\n",
       "      <th>petal width (cm)</th>\n",
       "      <td>0.775531</td>\n",
       "      <td>-0.287466</td>\n",
       "      <td>0.955804</td>\n",
       "      <td>1.000000</td>\n",
       "      <td>0.871017</td>\n",
       "    </tr>\n",
       "    <tr>\n",
       "      <th>target</th>\n",
       "      <td>0.698696</td>\n",
       "      <td>-0.570445</td>\n",
       "      <td>0.919304</td>\n",
       "      <td>0.871017</td>\n",
       "      <td>1.000000</td>\n",
       "    </tr>\n",
       "  </tbody>\n",
       "</table>\n",
       "</div>"
      ],
      "text/plain": [
       "                   sepal length (cm)  sepal width (cm)  petal length (cm)  \\\n",
       "sepal length (cm)           1.000000         -0.056297           0.851571   \n",
       "sepal width (cm)           -0.056297          1.000000          -0.368543   \n",
       "petal length (cm)           0.851571         -0.368543           1.000000   \n",
       "petal width (cm)            0.775531         -0.287466           0.955804   \n",
       "target                      0.698696         -0.570445           0.919304   \n",
       "\n",
       "                   petal width (cm)    target  \n",
       "sepal length (cm)          0.775531  0.698696  \n",
       "sepal width (cm)          -0.287466 -0.570445  \n",
       "petal length (cm)          0.955804  0.919304  \n",
       "petal width (cm)           1.000000  0.871017  \n",
       "target                     0.871017  1.000000  "
      ]
     },
     "execution_count": 46,
     "metadata": {},
     "output_type": "execute_result"
    }
   ],
   "source": [
    "# посмотрим корреляцию между фичами и таргетом\n",
    "df.corr()"
   ]
  },
  {
   "cell_type": "code",
   "execution_count": 47,
   "metadata": {},
   "outputs": [
    {
     "data": {
      "text/html": [
       "<div>\n",
       "<style scoped>\n",
       "    .dataframe tbody tr th:only-of-type {\n",
       "        vertical-align: middle;\n",
       "    }\n",
       "\n",
       "    .dataframe tbody tr th {\n",
       "        vertical-align: top;\n",
       "    }\n",
       "\n",
       "    .dataframe thead th {\n",
       "        text-align: right;\n",
       "    }\n",
       "</style>\n",
       "<table border=\"1\" class=\"dataframe\">\n",
       "  <thead>\n",
       "    <tr style=\"text-align: right;\">\n",
       "      <th></th>\n",
       "      <th>sepal length (cm)</th>\n",
       "      <th>sepal width (cm)</th>\n",
       "      <th>petal length (cm)</th>\n",
       "      <th>petal width (cm)</th>\n",
       "      <th>target</th>\n",
       "      <th>sepal_s</th>\n",
       "      <th>petal_s</th>\n",
       "    </tr>\n",
       "  </thead>\n",
       "  <tbody>\n",
       "    <tr>\n",
       "      <th>sepal length (cm)</th>\n",
       "      <td>1.000000</td>\n",
       "      <td>-0.056297</td>\n",
       "      <td>0.851571</td>\n",
       "      <td>0.775531</td>\n",
       "      <td>0.698696</td>\n",
       "      <td>0.711226</td>\n",
       "      <td>0.813627</td>\n",
       "    </tr>\n",
       "    <tr>\n",
       "      <th>sepal width (cm)</th>\n",
       "      <td>-0.056297</td>\n",
       "      <td>1.000000</td>\n",
       "      <td>-0.368543</td>\n",
       "      <td>-0.287466</td>\n",
       "      <td>-0.570445</td>\n",
       "      <td>0.658665</td>\n",
       "      <td>-0.204764</td>\n",
       "    </tr>\n",
       "    <tr>\n",
       "      <th>petal length (cm)</th>\n",
       "      <td>0.851571</td>\n",
       "      <td>-0.368543</td>\n",
       "      <td>1.000000</td>\n",
       "      <td>0.955804</td>\n",
       "      <td>0.919304</td>\n",
       "      <td>0.388444</td>\n",
       "      <td>0.949727</td>\n",
       "    </tr>\n",
       "    <tr>\n",
       "      <th>petal width (cm)</th>\n",
       "      <td>0.775531</td>\n",
       "      <td>-0.287466</td>\n",
       "      <td>0.955804</td>\n",
       "      <td>1.000000</td>\n",
       "      <td>0.871017</td>\n",
       "      <td>0.395362</td>\n",
       "      <td>0.983128</td>\n",
       "    </tr>\n",
       "    <tr>\n",
       "      <th>target</th>\n",
       "      <td>0.698696</td>\n",
       "      <td>-0.570445</td>\n",
       "      <td>0.919304</td>\n",
       "      <td>0.871017</td>\n",
       "      <td>1.000000</td>\n",
       "      <td>0.134292</td>\n",
       "      <td>0.802636</td>\n",
       "    </tr>\n",
       "    <tr>\n",
       "      <th>sepal_s</th>\n",
       "      <td>0.711226</td>\n",
       "      <td>0.658665</td>\n",
       "      <td>0.388444</td>\n",
       "      <td>0.395362</td>\n",
       "      <td>0.134292</td>\n",
       "      <td>1.000000</td>\n",
       "      <td>0.480973</td>\n",
       "    </tr>\n",
       "    <tr>\n",
       "      <th>petal_s</th>\n",
       "      <td>0.813627</td>\n",
       "      <td>-0.204764</td>\n",
       "      <td>0.949727</td>\n",
       "      <td>0.983128</td>\n",
       "      <td>0.802636</td>\n",
       "      <td>0.480973</td>\n",
       "      <td>1.000000</td>\n",
       "    </tr>\n",
       "  </tbody>\n",
       "</table>\n",
       "</div>"
      ],
      "text/plain": [
       "                   sepal length (cm)  sepal width (cm)  petal length (cm)  \\\n",
       "sepal length (cm)           1.000000         -0.056297           0.851571   \n",
       "sepal width (cm)           -0.056297          1.000000          -0.368543   \n",
       "petal length (cm)           0.851571         -0.368543           1.000000   \n",
       "petal width (cm)            0.775531         -0.287466           0.955804   \n",
       "target                      0.698696         -0.570445           0.919304   \n",
       "sepal_s                     0.711226          0.658665           0.388444   \n",
       "petal_s                     0.813627         -0.204764           0.949727   \n",
       "\n",
       "                   petal width (cm)    target   sepal_s   petal_s  \n",
       "sepal length (cm)          0.775531  0.698696  0.711226  0.813627  \n",
       "sepal width (cm)          -0.287466 -0.570445  0.658665 -0.204764  \n",
       "petal length (cm)          0.955804  0.919304  0.388444  0.949727  \n",
       "petal width (cm)           1.000000  0.871017  0.395362  0.983128  \n",
       "target                     0.871017  1.000000  0.134292  0.802636  \n",
       "sepal_s                    0.395362  0.134292  1.000000  0.480973  \n",
       "petal_s                    0.983128  0.802636  0.480973  1.000000  "
      ]
     },
     "execution_count": 47,
     "metadata": {},
     "output_type": "execute_result"
    }
   ],
   "source": [
    "df[\"sepal_s\"] = df[\"sepal length (cm)\"]*df[\"sepal width (cm)\"]\n",
    "df[\"petal_s\"] = df[\"petal length (cm)\"]*df[\"petal width (cm)\"]\n",
    "df.corr()"
   ]
  },
  {
   "cell_type": "markdown",
   "metadata": {},
   "source": [
    "##### Вывод\n",
    "\n",
    "Так как существует большая корреляция меджу показателем petal length и petal width и sepal length для можеди решила использовать показатели площади:\n",
    "* sepal length * sepal width\n",
    "* petal length * petal width"
   ]
  },
  {
   "cell_type": "markdown",
   "metadata": {},
   "source": [
    "## Обучение модели"
   ]
  },
  {
   "cell_type": "code",
   "execution_count": 48,
   "metadata": {},
   "outputs": [],
   "source": [
    "# Подготавливаем данные\n",
    "X_train = np.append(X_train, [[i*t] for i, t in zip(X_train[:,0], X_train[:,1])], axis=1)\n",
    "X_train = np.append(X_train, [[i*t] for i, t in zip(X_train[:,2], X_train[:,3])], axis=1)"
   ]
  },
  {
   "cell_type": "code",
   "execution_count": 49,
   "metadata": {},
   "outputs": [
    {
     "name": "stdout",
     "output_type": "stream",
     "text": [
      "Коэффициенты модели: [-0.04552092  0.09570242]\n",
      "Коэффициент детерминации на тренировочных данных: 0.7266797312445694\n"
     ]
    }
   ],
   "source": [
    "# обучаем модель\n",
    "lreg = LinearRegression()\n",
    "lreg.fit(X_train[:, 4:], y_train)\n",
    "\n",
    "print(f'Коэффициенты модели: {lreg.coef_}')\n",
    "print(f'Коэффициент детерминации на тренировочных данных: {lreg.score(X_train[:, 4:], y_train)}')"
   ]
  },
  {
   "cell_type": "code",
   "execution_count": 50,
   "metadata": {},
   "outputs": [
    {
     "name": "stdout",
     "output_type": "stream",
     "text": [
      "RMSE: 0.23486158691049355\n",
      "MSE: 0.055159965006115315\n"
     ]
    }
   ],
   "source": [
    "# Рассчитываем прогноз на тренировочных данных\n",
    "y_pred_train = lreg.predict(X_train[:, 4:])\n",
    "\n",
    "print(f'RMSE: {metrics.mean_squared_error(y_train, y_pred_train, squared=False)}')\n",
    "print(f'MSE: {metrics.mean_squared_error(y_train, y_pred_train, squared=True)}')"
   ]
  },
  {
   "cell_type": "code",
   "execution_count": 51,
   "metadata": {},
   "outputs": [
    {
     "name": "stdout",
     "output_type": "stream",
     "text": [
      "Accuracy: 1.0\n"
     ]
    }
   ],
   "source": [
    "# Переводим в классификатоор\n",
    "y_pred_traint_class = list(map(lambda i: 0 if i < 0.5 else 1, y_pred_train))\n",
    "\n",
    "print(f'Accuracy: {metrics.accuracy_score(y_train, y_pred_traint_class)}')"
   ]
  },
  {
   "cell_type": "markdown",
   "metadata": {},
   "source": [
    "## Предсказание"
   ]
  },
  {
   "cell_type": "code",
   "execution_count": 52,
   "metadata": {},
   "outputs": [],
   "source": [
    "# Подготавливаем данные\n",
    "X_test = np.append(X_test, [[i*t] for i, t in zip(X_test[:,0], X_test[:,1])], axis=1)\n",
    "X_test = np.append(X_test, [[i*t] for i, t in zip(X_test[:,2], X_test[:,3])], axis=1)"
   ]
  },
  {
   "cell_type": "code",
   "execution_count": 53,
   "metadata": {},
   "outputs": [
    {
     "name": "stdout",
     "output_type": "stream",
     "text": [
      "RMSE: 0.23880500535302357\n",
      "MSE: 0.05702783058165761\n"
     ]
    }
   ],
   "source": [
    "# Рассчитываем прогноз на тестовых данных\n",
    "y_pred = lreg.predict(X_test[:, 4:])\n",
    "\n",
    "print(f'RMSE: {metrics.mean_squared_error(y_test, y_pred, squared=False)}')\n",
    "print(f'MSE: {metrics.mean_squared_error(y_test, y_pred, squared=True)}')"
   ]
  },
  {
   "cell_type": "code",
   "execution_count": 54,
   "metadata": {},
   "outputs": [
    {
     "name": "stdout",
     "output_type": "stream",
     "text": [
      "Accuracy: 1.0\n"
     ]
    }
   ],
   "source": [
    "# Переводим в классификатоор\n",
    "y_pred_class = list(map(lambda i: 0 if i < 0.5 else 1, y_pred))\n",
    "\n",
    "print(f'Accuracy: {metrics.accuracy_score(y_test, y_pred_class)}')"
   ]
  }
 ],
 "metadata": {
  "kernelspec": {
   "display_name": "DS05",
   "language": "python",
   "name": "python3"
  },
  "language_info": {
   "codemirror_mode": {
    "name": "ipython",
    "version": 3
   },
   "file_extension": ".py",
   "mimetype": "text/x-python",
   "name": "python",
   "nbconvert_exporter": "python",
   "pygments_lexer": "ipython3",
   "version": "3.10.11"
  },
  "orig_nbformat": 4
 },
 "nbformat": 4,
 "nbformat_minor": 2
}
